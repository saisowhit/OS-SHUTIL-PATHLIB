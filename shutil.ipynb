{
 "cells": [
  {
   "cell_type": "code",
   "execution_count": null,
   "metadata": {},
   "outputs": [],
   "source": [
    "# shutil.ignore_patterns(*patterns)\n",
    "# This factory function creates a function that can be used as a callable for copytree()'s ignore argument, ignoring files and directories that match one of the glob-style patterns provided. See the example below."
   ]
  },
  {
   "cell_type": "code",
   "execution_count": null,
   "metadata": {},
   "outputs": [],
   "source": [
    "# shutil.copytree(src, dst, symlinks=False, ignore=None, copy_function=copy2, ignore_dangling_symlinks=False, dirs_exist_ok=False)"
   ]
  },
  {
   "cell_type": "code",
   "execution_count": null,
   "metadata": {},
   "outputs": [],
   "source": [
    "# shutil.copy(src, dst, *, follow_symlinks=True)\n",
    "# Copies the file src to the file or directory dst. src and dst should be path-like objects or strings. If dst specifies a directory, the file will be copied into dst using the base filename from src. If dst specifies a file that already exists, it will be replaced. Returns the path to the newly created file.\n",
    "\n",
    "# If follow_symlinks is false, and src is a symbolic link, dst will be created as a symbolic link. If follow_symlinks is true and src is a symbolic link, dst will be a copy of the file src refers to.\n",
    "\n",
    "# copy() copies the file data and the file’s permission mode (see os.chmod()). Other metadata, like the file’s creation and modification times, is not preserved. To preserve all file metadata from the original, use copy2() instead.\n",
    "\n",
    "# Raises an auditing event shutil.copyfile with arguments src, dst.\n",
    "\n",
    "# Raises an auditing event shutil.copymode with arguments src, dst.\n",
    "\n",
    "# Changed in version 3.3: Added follow_symlinks argument. Now returns path to the newly created file.\n",
    "\n",
    "# Changed in version 3.8: Platform-specific fast-copy syscalls may be used internally in order to copy the file more efficiently. See Platform-dependent efficient copy operations section."
   ]
  },
  {
   "cell_type": "code",
   "execution_count": null,
   "metadata": {},
   "outputs": [],
   "source": [
    "# shutil.which(cmd, mode=os.F_OK | os.X_OK, path=None)"
   ]
  },
  {
   "cell_type": "code",
   "execution_count": null,
   "metadata": {},
   "outputs": [],
   "source": [
    "# shutil.disk_usage(path)¶\n"
   ]
  },
  {
   "cell_type": "code",
   "execution_count": null,
   "metadata": {},
   "outputs": [],
   "source": [
    "# Return disk usage statistics about the given path as a named tuple with the attributes total, used and free, which are the amount of total, used and free space, in bytes. path may be a file or a directory.\n",
    "\n",
    "# Note On Unix filesystems, path must point to a path within a mounted filesystem partition. On those platforms, CPython doesn’t attempt to retrieve disk usage information from non-mounted filesystems.\n",
    "# Added in version 3.3.\n",
    "\n",
    "# Changed in version 3.8: On Windows, path can now be a file or directory.\n",
    "\n",
    "# Availability: Unix, Windows."
   ]
  },
  {
   "cell_type": "code",
   "execution_count": null,
   "metadata": {},
   "outputs": [],
   "source": [
    "# Return the path to an executable which would be run if the given cmd was called. If no cmd would be called, return None.\n",
    "\n",
    "# mode is a permission mask passed to os.access(), by default determining if the file exists and is executable.\n",
    "\n",
    "# When no path is specified, the results of os.environ() are used, returning either the “PATH” value or a fallback of os.defpath.\n",
    "\n",
    "# On Windows, the current directory is prepended to the path if mode does not include os.X_OK. When the mode does include os.X_OK, the Windows API NeedCurrentDirectoryForExePathW will be consulted to determine if the current directory should be prepended to path. To avoid consulting the current working directory for executables: set the environment variable NoDefaultCurrentDirectoryInExePath.\n",
    "\n",
    "# Also on Windows, the PATHEXT variable is used to resolve commands that may not already include an extension. For example, if you call shutil.which(\"python\"), which() will search PATHEXT to know that it should look for python.exe within the path directories. For example, on Windows:"
   ]
  },
  {
   "cell_type": "code",
   "execution_count": null,
   "metadata": {},
   "outputs": [],
   "source": [
    "# shutil.chown(path, user=None, group=None)\n",
    "# Change owner user and/or group of the given path.\n",
    "\n",
    "# user can be a system user name or a uid; the same applies to group. At least one argument is required.\n",
    "\n",
    "# See also os.chown(), the underlying function.\n",
    "\n",
    "# Raises an auditing event shutil.chown with arguments path, user, group.\n",
    "\n",
    "# Availability: Unix."
   ]
  },
  {
   "cell_type": "code",
   "execution_count": 4,
   "metadata": {},
   "outputs": [],
   "source": [
    "import shutil\n",
    "shutil.which(\"C:\\\\Python33\\\\python\")"
   ]
  },
  {
   "cell_type": "code",
   "execution_count": null,
   "metadata": {},
   "outputs": [],
   "source": [
    "# Added in version 3.3.\n",
    "\n",
    "# Changed in version 3.8: The bytes type is now accepted. If cmd type is bytes, the result type is also bytes.\n",
    "\n",
    "# Changed in version 3.12: On Windows, the current directory is no longer prepended to the search path if mode includes os.X_OK and WinAPI NeedCurrentDirectoryForExePathW(cmd) is false, else the current directory is prepended even if it is already in the search path; PATHEXT is used now even when cmd includes a directory component or ends with an extension that is in PATHEXT; and filenames that have no extension can now be found.\n",
    "\n",
    "# Changed in version 3.12.1: On Windows, if mode includes os.X_OK, executables with an extension in PATHEXT will be preferred over executables without a matching extension. This brings behavior closer to that of Python 3.11.\n",
    "\n",
    "# exception shutil.Error\n",
    "# This exception collects exceptions that are raised during a multi-file operation. For copytree(), the exception argument is a list of 3-tuples (srcname, dstname, exception)."
   ]
  },
  {
   "cell_type": "code",
   "execution_count": null,
   "metadata": {},
   "outputs": [],
   "source": [
    "# shutil.ignore_patterns(*patterns)\n",
    "# This factory function creates a function that can be used as a callable for copytree()'s ignore argument, ignoring files and directories that match one of the glob-style patterns provided. See the example below."
   ]
  },
  {
   "cell_type": "code",
   "execution_count": null,
   "metadata": {},
   "outputs": [],
   "source": [
    "# Platform-dependent efficient copy operations\n",
    "# Starting from Python 3.8, all functions involving a file copy (copyfile(), copy(), copy2(), copytree(), and move()) may use platform-specific “fast-copy” syscalls in order to copy the file more efficiently (see bpo-33671). “fast-copy” means that the copying operation occurs within the kernel, avoiding the use of userspace buffers in Python as in “outfd.write(infd.read())”.\n",
    "\n",
    "# On macOS fcopyfile is used to copy the file content (not metadata).\n",
    "\n",
    "# On Linux os.sendfile() is used.\n",
    "\n",
    "# On Windows shutil.copyfile() uses a bigger default buffer size (1 MiB instead of 64 KiB) and a memoryview()-based variant of shutil.copyfileobj() is used.\n",
    "\n",
    "# If the fast-copy operation fails and no data was written in the destination file then shutil will silently fallback on using less efficient copyfileobj() function internally.\n",
    "\n",
    "# Changed in version 3.8."
   ]
  },
  {
   "cell_type": "code",
   "execution_count": null,
   "metadata": {},
   "outputs": [],
   "source": [
    "# rmtree example\n",
    "# This example shows how to remove a directory tree on Windows where some of the files have their read-only bit set. It uses the onexc callback to clear the readonly bit and reattempt the remove. Any subsequent failure will propagate."
   ]
  },
  {
   "cell_type": "code",
   "execution_count": 1,
   "metadata": {},
   "outputs": [
    {
     "ename": "NameError",
     "evalue": "name 'directory' is not defined",
     "output_type": "error",
     "traceback": [
      "\u001b[1;31m---------------------------------------------------------------------------\u001b[0m",
      "\u001b[1;31mNameError\u001b[0m                                 Traceback (most recent call last)",
      "Cell \u001b[1;32mIn[1], line 9\u001b[0m\n\u001b[0;32m      6\u001b[0m     os\u001b[38;5;241m.\u001b[39mchmod(path, stat\u001b[38;5;241m.\u001b[39mS_IWRITE)\n\u001b[0;32m      7\u001b[0m     func(path)\n\u001b[1;32m----> 9\u001b[0m shutil\u001b[38;5;241m.\u001b[39mrmtree(\u001b[43mdirectory\u001b[49m, onexc\u001b[38;5;241m=\u001b[39mremove_readonly)\n",
      "\u001b[1;31mNameError\u001b[0m: name 'directory' is not defined"
     ]
    }
   ],
   "source": [
    "import os, stat\n",
    "import shutil\n",
    "\n",
    "def remove_readonly(func, path, _):\n",
    "    \"Clear the readonly bit and reattempt the removal\"\n",
    "    os.chmod(path, stat.S_IWRITE)\n",
    "    func(path)\n",
    "\n",
    "shutil.rmtree(directory, onexc=remove_readonly)"
   ]
  },
  {
   "cell_type": "code",
   "execution_count": null,
   "metadata": {},
   "outputs": [],
   "source": [
    "# shutil.chown(path, user=None, group=None)\n",
    "# Change owner user and/or group of the given path.\n",
    "\n",
    "# user can be a system user name or a uid; the same applies to group. At least one argument is required.\n",
    "\n",
    "# See also os.chown(), the underlying function.\n",
    "\n",
    "# Raises an auditing event shutil.chown with arguments path, user, group.\n",
    "\n",
    "# Availability: Unix.\n",
    "\n",
    "# Added in version 3.3."
   ]
  },
  {
   "cell_type": "code",
   "execution_count": null,
   "metadata": {},
   "outputs": [],
   "source": [
    "# rmtree example\n",
    "# This example shows how to remove a directory tree on Windows where some of the files have their read-only bit set. It uses the onexc callback to clear the readonly bit and reattempt the remove. Any subsequent failure will propagate."
   ]
  },
  {
   "cell_type": "code",
   "execution_count": 1,
   "metadata": {},
   "outputs": [
    {
     "ename": "NameError",
     "evalue": "name 'directory' is not defined",
     "output_type": "error",
     "traceback": [
      "\u001b[1;31m---------------------------------------------------------------------------\u001b[0m",
      "\u001b[1;31mNameError\u001b[0m                                 Traceback (most recent call last)",
      "Cell \u001b[1;32mIn[1], line 9\u001b[0m\n\u001b[0;32m      6\u001b[0m     os\u001b[38;5;241m.\u001b[39mchmod(path, stat\u001b[38;5;241m.\u001b[39mS_IWRITE)\n\u001b[0;32m      7\u001b[0m     func(path)\n\u001b[1;32m----> 9\u001b[0m shutil\u001b[38;5;241m.\u001b[39mrmtree(\u001b[43mdirectory\u001b[49m, onexc\u001b[38;5;241m=\u001b[39mremove_readonly)\n",
      "\u001b[1;31mNameError\u001b[0m: name 'directory' is not defined"
     ]
    }
   ],
   "source": [
    "import os, stat\n",
    "import shutil\n",
    "\n",
    "def remove_readonly(func, path, _):\n",
    "    \"Clear the readonly bit and reattempt the removal\"\n",
    "    os.chmod(path, stat.S_IWRITE)\n",
    "    func(path)\n",
    "\n",
    "shutil.rmtree(directory, onexc=remove_readonly)"
   ]
  },
  {
   "cell_type": "code",
   "execution_count": null,
   "metadata": {},
   "outputs": [],
   "source": [
    "# Archiving operations\n",
    "# Added in version 3.2.\n",
    "\n",
    "# Changed in version 3.5: Added support for the xztar format.\n",
    "\n",
    "# High-level utilities to create and read compressed and archived files are also provided. They rely on the zipfile and tarfile modules."
   ]
  },
  {
   "cell_type": "code",
   "execution_count": null,
   "metadata": {},
   "outputs": [],
   "source": [
    "# shutil.get_archive_formats()\n",
    "# Return a list of supported formats for archiving. Each element of the returned sequence is a tuple (name, description).\n",
    "\n",
    "# By default shutil provides these formats:\n",
    "\n",
    "# zip: ZIP file (if the zlib module is available).\n",
    "\n",
    "# tar: Uncompressed tar file. Uses POSIX.1-2001 pax format for new archives.\n",
    "\n",
    "# gztar: gzip’ed tar-file (if the zlib module is available).\n",
    "\n",
    "# bztar: bzip2’ed tar-file (if the bz2 module is available).\n",
    "\n",
    "# xztar: xz’ed tar-file (if the lzma module is available)."
   ]
  },
  {
   "cell_type": "code",
   "execution_count": null,
   "metadata": {},
   "outputs": [],
   "source": [
    "# # shutil.make_archive(base_name, format[, root_dir[, base_dir[, verbose[, dry_run[, owner[, group[, logger]]]]]]])¶\n",
    "# Create an archive file (such as zip or tar) and return its name.\n",
    "\n",
    "# base_name is the name of the file to create, including the path, minus any format-specific extension.\n",
    "\n",
    "# format is the archive format: one of “zip” (if the zlib module is available), “tar”, “gztar” (if the zlib module is available), “bztar” (if the bz2 module is available), or “xztar” (if the lzma module is available).\n",
    "\n",
    "# root_dir is a directory that will be the root directory of the archive, all paths in the archive will be relative to it; for example, we typically chdir into root_dir before creating the archive.\n",
    "\n",
    "# base_dir is the directory where we start archiving from; i.e. base_dir will be the common prefix of all files and directories in the archive. base_dir must be given relative to root_dir. See Archiving example with base_dir for how to use base_dir and root_dir together.\n",
    "\n",
    "# root_dir and base_dir both default to the current directory.\n",
    "\n",
    "# If dry_run is true, no archive is created, but the operations that would be executed are logged to logger.\n",
    "\n",
    "# owner and group are used when creating a tar archive. By default, uses the current owner and group.\n",
    "\n",
    "# logger must be an object compatible with PEP 282, usually an instance of logging.Logger.\n",
    "\n",
    "# The verbose argument is unused and deprecated.\n",
    "\n",
    "# Raises an auditing event shutil.make_archive with arguments base_name, format, root_dir, base_dir."
   ]
  },
  {
   "cell_type": "code",
   "execution_count": null,
   "metadata": {},
   "outputs": [],
   "source": [
    "# shutil.register_archive_format(name, function[, extra_args[, description]])"
   ]
  },
  {
   "cell_type": "code",
   "execution_count": null,
   "metadata": {},
   "outputs": [],
   "source": [
    "#     Register an archiver for the format name.\n",
    "\n",
    "# function is the callable that will be used to unpack archives. The callable will receive the base_name of the file to create, followed by the base_dir (which defaults to os.curdir) to start archiving from. Further arguments are passed as keyword arguments: owner, group, dry_run and logger (as passed in make_archive()).\n",
    "\n",
    "# If function has the custom attribute function.supports_root_dir set to True, the root_dir argument is passed as a keyword argument. Otherwise the current working directory of the process is temporarily changed to root_dir before calling function. In this case make_archive() is not thread-safe.\n",
    "\n",
    "# If given, extra_args is a sequence of (name, value) pairs that will be used as extra keywords arguments when the archiver callable is used.\n",
    "\n",
    "# description is used by get_archive_formats() which returns the list of archivers. Defaults to an empty string.\n",
    "\n",
    "# Changed in version 3.12: Added support for functions supporting the root_dir argument."
   ]
  },
  {
   "cell_type": "code",
   "execution_count": null,
   "metadata": {},
   "outputs": [],
   "source": [
    "# shutil.unregister_archive_format(name)\n",
    "# Remove the archive format name from the list of supported formats."
   ]
  },
  {
   "cell_type": "code",
   "execution_count": null,
   "metadata": {},
   "outputs": [],
   "source": [
    "# shutil.unpack_archive(filename[, extract_dir[, format[, filter]]])\n",
    "# Unpack an archive. filename is the full path of the archive.\n",
    "\n",
    "# extract_dir is the name of the target directory where the archive is unpacked. If not provided, the current working directory is used.\n",
    "\n",
    "# format is the archive format: one of “zip”, “tar”, “gztar”, “bztar”, or “xztar”. Or any other format registered with register_unpack_format(). If not provided, unpack_archive() will use the archive file name extension and see if an unpacker was registered for that extension. In case none is found, a ValueError is raised.\n",
    "\n",
    "# The keyword-only filter argument is passed to the underlying unpacking function. For zip files, filter is not accepted. For tar files, it is recommended to set it to 'data', unless using features specific to tar and UNIX-like filesystems. (See Extraction filters for details.) The 'data' filter will become the default for tar files in Python 3.14.\n",
    "\n",
    "# Raises an auditing event shutil.unpack_archive with arguments filename, extract_dir, format."
   ]
  },
  {
   "cell_type": "code",
   "execution_count": null,
   "metadata": {},
   "outputs": [],
   "source": [
    "# shutil.register_unpack_format(name, extensions, function[, extra_args[, description]])\n",
    "# Registers an unpack format. name is the name of the format and extensions is a list of extensions corresponding to the format, like .zip for Zip files.\n",
    "\n",
    "# function is the callable that will be used to unpack archives. The callable will receive:\n",
    "\n",
    "# the path of the archive, as a positional argument;\n",
    "\n",
    "# the directory the archive must be extracted to, as a positional argument;\n",
    "\n",
    "# possibly a filter keyword argument, if it was given to unpack_archive();\n",
    "\n",
    "# additional keyword arguments, specified by extra_args as a sequence of (name, value) tuples.\n",
    "\n",
    "# description can be provided to describe the format, and will be returned by the get_unpack_formats() function."
   ]
  },
  {
   "cell_type": "code",
   "execution_count": null,
   "metadata": {},
   "outputs": [],
   "source": [
    "# shutil.unregister_unpack_format(name)\n",
    "# Unregister an unpack format. name is the name of the format"
   ]
  },
  {
   "cell_type": "code",
   "execution_count": null,
   "metadata": {},
   "outputs": [],
   "source": [
    "# shutil.get_unpack_formats()\n",
    "# Return a list of all registered formats for unpacking. Each element of the returned sequence is a tuple (name, extensions, description).\n",
    "\n",
    "# By default shutil provides these formats:\n",
    "\n",
    "# zip: ZIP file (unpacking compressed files works only if the corresponding module is available).\n",
    "\n",
    "# tar: uncompressed tar file.\n",
    "\n",
    "# gztar: gzip’ed tar-file (if the zlib module is available).\n",
    "\n",
    "# bztar: bzip2’ed tar-file (if the bz2 module is available).\n",
    "\n",
    "# xztar: xz’ed tar-file (if the lzma module is available).\n",
    "\n",
    "# You can register new formats or provide your own unpacker for any existing formats, by using register_unpack_format()."
   ]
  },
  {
   "cell_type": "code",
   "execution_count": null,
   "metadata": {},
   "outputs": [],
   "source": [
    "# Querying the size of the output terminal\n",
    "# shutil.get_terminal_size(fallback=(columns, lines))\n",
    "# Get the size of the terminal window.\n",
    "\n",
    "# For each of the two dimensions, the environment variable, COLUMNS and LINES respectively, is checked. If the variable is defined and the value is a positive integer, it is used.\n",
    "\n",
    "# When COLUMNS or LINES is not defined, which is the common case, the terminal connected to sys.__stdout__ is queried by invoking os.get_terminal_size().\n",
    "\n",
    "# If the terminal size cannot be successfully queried, either because the system doesn’t support querying, or because we are not connected to a terminal, the value given in fallback parameter is used. fallback defaults to (80, 24) which is the default size used by many terminal emulators.\n",
    "\n",
    "# The value returned is a named tuple of type os.terminal_size.\n",
    "\n",
    "# See also: The Single UNIX Specification, Version 2, Other Environment Variables.\n",
    "\n",
    "# Added in version 3.3.\n",
    "\n",
    "# Changed in version 3.11: The fallback values are also used if os.get_terminal_size() returns zeroes."
   ]
  },
  {
   "cell_type": "code",
   "execution_count": null,
   "metadata": {},
   "outputs": [],
   "source": [
    "# shutil.disk_usage(path)\n",
    "# Return disk usage statistics about the given path as a named tuple with the attributes total, used and free, which are the amount of total, used and free space, in bytes. path may be a file or a directory.\n",
    "\n",
    "# Note On Unix filesystems, path must point to a path within a mounted filesystem partition. On those platforms, CPython doesn’t attempt to retrieve disk usage information from non-mounted filesystems.\n",
    "# Added in version 3.3.\n",
    "\n",
    "# Changed in version 3.8: On Windows, path can now be a file or directory.\n",
    "\n",
    "# Availability: Unix, Windows."
   ]
  },
  {
   "cell_type": "code",
   "execution_count": null,
   "metadata": {},
   "outputs": [],
   "source": [
    "# Archiving example"
   ]
  },
  {
   "cell_type": "code",
   "execution_count": 1,
   "metadata": {},
   "outputs": [
    {
     "data": {
      "text/plain": [
       "'C:\\\\Users\\\\00824732\\\\myarchive.tar.gz'"
      ]
     },
     "execution_count": 1,
     "metadata": {},
     "output_type": "execute_result"
    }
   ],
   "source": [
    "from shutil import make_archive\n",
    "import os\n",
    "archive_name = os.path.expanduser(os.path.join('~', 'myarchive'))\n",
    "root_dir = os.path.expanduser(os.path.join('~', '.ssh'))\n",
    "make_archive(archive_name, 'gztar', root_dir)"
   ]
  },
  {
   "cell_type": "code",
   "execution_count": null,
   "metadata": {},
   "outputs": [],
   "source": [
    "# Querying the size of the output terminal\n",
    "# shutil.get_terminal_size(fallback=(columns, lines))\n",
    "# Get the size of the terminal window.\n",
    "\n",
    "# For each of the two dimensions, the environment variable, COLUMNS and LINES respectively, is checked. If the variable is defined and the value is a positive integer, it is used.\n",
    "\n",
    "# When COLUMNS or LINES is not defined, which is the common case, the terminal connected to sys.__stdout__ is queried by invoking os.get_terminal_size().\n",
    "\n",
    "# If the terminal size cannot be successfully queried, either because the system doesn’t support querying, or because we are not connected to a terminal, the value given in fallback parameter is used. fallback defaults to (80, 24) which is the default size used by many terminal emulators.\n",
    "\n",
    "# The value returned is a named tuple of type os.terminal_size.\n",
    "\n",
    "# See also: The Single UNIX Specification, Version 2, Other Environment Variables.\n",
    "\n",
    "# Added in version 3.3.\n",
    "\n",
    "# Changed in version 3.11: The fallback values are also used if os.get_terminal_size() returns zeroes."
   ]
  },
  {
   "cell_type": "code",
   "execution_count": null,
   "metadata": {},
   "outputs": [],
   "source": [
    "# Archiving example with base_dir"
   ]
  },
  {
   "cell_type": "code",
   "execution_count": null,
   "metadata": {},
   "outputs": [],
   "source": [
    "# n this example, similar to the one above, we show how to use make_archive(), but this time with the usage of base_dir. We now have the following directory structure:"
   ]
  },
  {
   "cell_type": "code",
   "execution_count": 2,
   "metadata": {},
   "outputs": [
    {
     "ename": "FileNotFoundError",
     "evalue": "[WinError 3] The system cannot find the path specified: 'tmp/root'",
     "output_type": "error",
     "traceback": [
      "\u001b[1;31m---------------------------------------------------------------------------\u001b[0m",
      "\u001b[1;31mFileNotFoundError\u001b[0m                         Traceback (most recent call last)",
      "Cell \u001b[1;32mIn[2], line 4\u001b[0m\n\u001b[0;32m      2\u001b[0m \u001b[38;5;28;01mimport\u001b[39;00m \u001b[38;5;21;01mos\u001b[39;00m\n\u001b[0;32m      3\u001b[0m archive_name \u001b[38;5;241m=\u001b[39m os\u001b[38;5;241m.\u001b[39mpath\u001b[38;5;241m.\u001b[39mexpanduser(os\u001b[38;5;241m.\u001b[39mpath\u001b[38;5;241m.\u001b[39mjoin(\u001b[38;5;124m'\u001b[39m\u001b[38;5;124m~\u001b[39m\u001b[38;5;124m'\u001b[39m, \u001b[38;5;124m'\u001b[39m\u001b[38;5;124mmyarchive\u001b[39m\u001b[38;5;124m'\u001b[39m))\n\u001b[1;32m----> 4\u001b[0m \u001b[43mmake_archive\u001b[49m\u001b[43m(\u001b[49m\n\u001b[0;32m      5\u001b[0m \u001b[43m    \u001b[49m\u001b[43marchive_name\u001b[49m\u001b[43m,\u001b[49m\n\u001b[0;32m      6\u001b[0m \u001b[43m    \u001b[49m\u001b[38;5;124;43m'\u001b[39;49m\u001b[38;5;124;43mtar\u001b[39;49m\u001b[38;5;124;43m'\u001b[39;49m\u001b[43m,\u001b[49m\n\u001b[0;32m      7\u001b[0m \u001b[43m    \u001b[49m\u001b[43mroot_dir\u001b[49m\u001b[38;5;241;43m=\u001b[39;49m\u001b[38;5;124;43m'\u001b[39;49m\u001b[38;5;124;43mtmp/root\u001b[39;49m\u001b[38;5;124;43m'\u001b[39;49m\u001b[43m,\u001b[49m\n\u001b[0;32m      8\u001b[0m \u001b[43m    \u001b[49m\u001b[43mbase_dir\u001b[49m\u001b[38;5;241;43m=\u001b[39;49m\u001b[38;5;124;43m'\u001b[39;49m\u001b[38;5;124;43mstructure/content\u001b[39;49m\u001b[38;5;124;43m'\u001b[39;49m\u001b[43m,\u001b[49m\n\u001b[0;32m      9\u001b[0m \u001b[43m)\u001b[49m\n",
      "File \u001b[1;32mC:\\Program Files\\WindowsApps\\PythonSoftwareFoundation.Python.3.12_3.12.1776.0_x64__qbz5n2kfra8p0\\Lib\\shutil.py:1144\u001b[0m, in \u001b[0;36mmake_archive\u001b[1;34m(base_name, format, root_dir, base_dir, verbose, dry_run, owner, group, logger)\u001b[0m\n\u001b[0;32m   1142\u001b[0m save_cwd \u001b[38;5;241m=\u001b[39m \u001b[38;5;28;01mNone\u001b[39;00m\n\u001b[0;32m   1143\u001b[0m \u001b[38;5;28;01mif\u001b[39;00m root_dir \u001b[38;5;129;01mis\u001b[39;00m \u001b[38;5;129;01mnot\u001b[39;00m \u001b[38;5;28;01mNone\u001b[39;00m:\n\u001b[1;32m-> 1144\u001b[0m     stmd \u001b[38;5;241m=\u001b[39m \u001b[43mos\u001b[49m\u001b[38;5;241;43m.\u001b[39;49m\u001b[43mstat\u001b[49m\u001b[43m(\u001b[49m\u001b[43mroot_dir\u001b[49m\u001b[43m)\u001b[49m\u001b[38;5;241m.\u001b[39mst_mode\n\u001b[0;32m   1145\u001b[0m     \u001b[38;5;28;01mif\u001b[39;00m \u001b[38;5;129;01mnot\u001b[39;00m stat\u001b[38;5;241m.\u001b[39mS_ISDIR(stmd):\n\u001b[0;32m   1146\u001b[0m         \u001b[38;5;28;01mraise\u001b[39;00m \u001b[38;5;167;01mNotADirectoryError\u001b[39;00m(errno\u001b[38;5;241m.\u001b[39mENOTDIR, \u001b[38;5;124m'\u001b[39m\u001b[38;5;124mNot a directory\u001b[39m\u001b[38;5;124m'\u001b[39m, root_dir)\n",
      "\u001b[1;31mFileNotFoundError\u001b[0m: [WinError 3] The system cannot find the path specified: 'tmp/root'"
     ]
    }
   ],
   "source": [
    "from shutil import make_archive\n",
    "import os\n",
    "archive_name = os.path.expanduser(os.path.join('~', 'myarchive'))\n",
    "make_archive(\n",
    "    archive_name,\n",
    "    'tar',\n",
    "    root_dir='tmp/root',\n",
    "    base_dir='structure/content',\n",
    ")"
   ]
  }
 ],
 "metadata": {
  "kernelspec": {
   "display_name": "Python 3",
   "language": "python",
   "name": "python3"
  },
  "language_info": {
   "codemirror_mode": {
    "name": "ipython",
    "version": 3
   },
   "file_extension": ".py",
   "mimetype": "text/x-python",
   "name": "python",
   "nbconvert_exporter": "python",
   "pygments_lexer": "ipython3",
   "version": "3.12.6"
  }
 },
 "nbformat": 4,
 "nbformat_minor": 2
}
