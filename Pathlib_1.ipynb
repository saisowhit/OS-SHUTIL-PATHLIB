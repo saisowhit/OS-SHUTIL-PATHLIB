{
 "cells": [
  {
   "cell_type": "code",
   "execution_count": 11,
   "metadata": {},
   "outputs": [],
   "source": [
    "from pathlib import posixpath,Path\n",
    "import os"
   ]
  },
  {
   "cell_type": "code",
   "execution_count": null,
   "metadata": {},
   "outputs": [],
   "source": [
    "# Path.expanduser()¶"
   ]
  },
  {
   "cell_type": "code",
   "execution_count": 15,
   "metadata": {},
   "outputs": [
    {
     "data": {
      "text/plain": [
       "'Desktop'"
      ]
     },
     "execution_count": 15,
     "metadata": {},
     "output_type": "execute_result"
    }
   ],
   "source": [
    "p = Path.cwd()\n",
    "p.stem"
   ]
  },
  {
   "cell_type": "code",
   "execution_count": null,
   "metadata": {},
   "outputs": [],
   "source": [
    "# Path.expanduser()"
   ]
  },
  {
   "cell_type": "code",
   "execution_count": null,
   "metadata": {},
   "outputs": [],
   "source": []
  },
  {
   "cell_type": "code",
   "execution_count": null,
   "metadata": {},
   "outputs": [],
   "source": [
    "# PurePath.anchor¶"
   ]
  },
  {
   "cell_type": "code",
   "execution_count": 16,
   "metadata": {},
   "outputs": [
    {
     "data": {
      "text/plain": [
       "'c:\\\\'"
      ]
     },
     "execution_count": 16,
     "metadata": {},
     "output_type": "execute_result"
    }
   ],
   "source": [
    "PureWindowsPath('c:/Program Files/').anchor"
   ]
  },
  {
   "cell_type": "code",
   "execution_count": null,
   "metadata": {},
   "outputs": [],
   "source": [
    "# PurePath.name: A string representing the final path component, excluding the drive and root, if any"
   ]
  },
  {
   "cell_type": "code",
   "execution_count": 17,
   "metadata": {},
   "outputs": [
    {
     "data": {
      "text/plain": [
       "'setup.py'"
      ]
     },
     "execution_count": 17,
     "metadata": {},
     "output_type": "execute_result"
    }
   ],
   "source": [
    "PurePosixPath('my/library/setup.py').name"
   ]
  },
  {
   "cell_type": "code",
   "execution_count": null,
   "metadata": {},
   "outputs": [],
   "source": [
    "# PurePath.suffix: The file extension of the final component, if any:"
   ]
  },
  {
   "cell_type": "code",
   "execution_count": 18,
   "metadata": {},
   "outputs": [
    {
     "data": {
      "text/plain": [
       "'.py'"
      ]
     },
     "execution_count": 18,
     "metadata": {},
     "output_type": "execute_result"
    }
   ],
   "source": [
    "PurePosixPath('my/library/setup.py').suffix"
   ]
  },
  {
   "cell_type": "code",
   "execution_count": null,
   "metadata": {},
   "outputs": [],
   "source": [
    "# PurePath.suffixes¶: A list of the path’s file extensions"
   ]
  },
  {
   "cell_type": "code",
   "execution_count": 19,
   "metadata": {},
   "outputs": [
    {
     "data": {
      "text/plain": [
       "['.tar', '.gar']"
      ]
     },
     "execution_count": 19,
     "metadata": {},
     "output_type": "execute_result"
    }
   ],
   "source": [
    "PurePosixPath('my/library.tar.gar').suffixes"
   ]
  },
  {
   "cell_type": "code",
   "execution_count": null,
   "metadata": {},
   "outputs": [],
   "source": [
    "# Path.cwd()\n",
    "# Return a new path object representing the current directory (as returned by os.getcwd()):"
   ]
  },
  {
   "cell_type": "code",
   "execution_count": 22,
   "metadata": {},
   "outputs": [
    {
     "data": {
      "text/plain": [
       "WindowsPath('c:/Users/00824732/Desktop')"
      ]
     },
     "execution_count": 22,
     "metadata": {},
     "output_type": "execute_result"
    }
   ],
   "source": [
    "Path.cwd()"
   ]
  },
  {
   "cell_type": "code",
   "execution_count": null,
   "metadata": {},
   "outputs": [],
   "source": [
    "# Path.absolute()¶\n",
    "# Make the path absolute, without normalization or resolving symlinks. Returns a new path object:\n",
    "\n"
   ]
  },
  {
   "cell_type": "code",
   "execution_count": 24,
   "metadata": {},
   "outputs": [
    {
     "data": {
      "text/plain": [
       "WindowsPath('c:/Users/00824732/Desktop/tests')"
      ]
     },
     "execution_count": 24,
     "metadata": {},
     "output_type": "execute_result"
    }
   ],
   "source": [
    "p = Path('tests')\n",
    "p.absolute()\n"
   ]
  },
  {
   "cell_type": "code",
   "execution_count": null,
   "metadata": {},
   "outputs": [],
   "source": [
    "# Path.hardlink_to(target)\n",
    "# Make this path a hard link to the same file as target."
   ]
  },
  {
   "cell_type": "code",
   "execution_count": null,
   "metadata": {},
   "outputs": [],
   "source": [
    "# Path.rmdir()\n",
    "# Remove this directory. The directory must be empty."
   ]
  },
  {
   "cell_type": "code",
   "execution_count": null,
   "metadata": {},
   "outputs": [],
   "source": [
    "# Path.touch(mode=0o666, exist_ok=True)\n",
    "# Create a file at this given path. If mode is given, it is combined with the process’s umask value to determine the file mode and access flags. If the file already exists, the function succeeds when exist_ok is true (and its modification time is updated to the current time), otherwise FileExistsError is raised."
   ]
  },
  {
   "cell_type": "code",
   "execution_count": null,
   "metadata": {},
   "outputs": [],
   "source": [
    "# Path.replace(target)\n",
    "# Rename this file or directory to the given target, and return a new Path instance pointing to target. If target points to an existing file or empty directory, it will be unconditionally replaced.\n",
    "\n",
    "# The target path may be absolute or relative. Relative paths are interpreted relative to the current working directory, not the directory of the Path object."
   ]
  },
  {
   "cell_type": "code",
   "execution_count": 28,
   "metadata": {},
   "outputs": [
    {
     "data": {
      "text/plain": [
       "WindowsPath('C:/Users/00824732')"
      ]
     },
     "execution_count": 28,
     "metadata": {},
     "output_type": "execute_result"
    }
   ],
   "source": [
    "Path.home()\n",
    "# PosixPath('/home/antoine')\n",
    "# Added in version 3.5.\n"
   ]
  },
  {
   "cell_type": "code",
   "execution_count": null,
   "metadata": {},
   "outputs": [],
   "source": [
    "Path.expanduser()\n",
    "Return a new path with expanded ~ and ~user constructs, as returned by os.path.expanduser(). If a home directory can’t be resolved, RuntimeError is raised.\n",
    "\n"
   ]
  },
  {
   "cell_type": "code",
   "execution_count": 49,
   "metadata": {},
   "outputs": [],
   "source": [
    "def countx(tup,x):\n",
    "    count=0\n",
    "    for ele in tup:\n",
    "        if (ele==x):\n",
    "            count+=1\n",
    "    return count\n"
   ]
  },
  {
   "cell_type": "code",
   "execution_count": 51,
   "metadata": {},
   "outputs": [
    {
     "data": {
      "text/plain": [
       "1"
      ]
     },
     "execution_count": 51,
     "metadata": {},
     "output_type": "execute_result"
    }
   ],
   "source": [
    "tup = (10, 8, 5,4, 2, 10, 15, 10, 8, 5, 8, 8, 2)\n",
    "enq = 4\n",
    "countx(tup,enq)"
   ]
  },
  {
   "cell_type": "code",
   "execution_count": 54,
   "metadata": {},
   "outputs": [],
   "source": [
    "from pathlib import Path\n",
    "import datetime as dt\n",
    "import os\n",
    "\n",
    "yesterday=dt.datetime.now()-dt.timedelta(days=1)\n",
    "directory=Path.cwd()\n",
    "for files in Path(directory).iterdir():\n",
    "    if yesterday==dt.datetime.fromtimestamp(directory.stat().st_mtime).date():\n",
    "        print(f'file was last modified yesterday {directory}')"
   ]
  },
  {
   "cell_type": "code",
   "execution_count": null,
   "metadata": {},
   "outputs": [],
   "source": [
    "Can you tell me about a time when you had to deliver bad news to a colleague?\n",
    "\"In my previous job, I had to inform my colleague that the project we were working on was behind schedule and we were at risk of missing the deadline. It was a tough conversation to have, but I approached it with empathy, acknowledging the impact it would have on their workload. I also presented a plan to get the project back on track, which involved additional resources and a revised timeline. We worked together to implement the plan and met the deadline in the end.\""
   ]
  },
  {
   "cell_type": "code",
   "execution_count": 44,
   "metadata": {},
   "outputs": [],
   "source": [
    "def count_elements(ele):\n",
    "    return Counter(ele)"
   ]
  },
  {
   "cell_type": "code",
   "execution_count": 46,
   "metadata": {},
   "outputs": [
    {
     "data": {
      "text/plain": [
       "Counter({'ab': 3, 'a': 2, 'abc': 1})"
      ]
     },
     "execution_count": 46,
     "metadata": {},
     "output_type": "execute_result"
    }
   ],
   "source": [
    "count_elements(sample_list)"
   ]
  },
  {
   "cell_type": "code",
   "execution_count": 43,
   "metadata": {},
   "outputs": [
    {
     "data": {
      "text/plain": [
       "Counter({'ab': 3, 'a': 2, 'abc': 1})"
      ]
     },
     "execution_count": 43,
     "metadata": {},
     "output_type": "execute_result"
    }
   ],
   "source": [
    "sample_list = [\"a\", \"ab\", \"a\", \"abc\", \"ab\", \"ab\"]\n",
    "Counter(sample_list)"
   ]
  },
  {
   "cell_type": "code",
   "execution_count": 42,
   "metadata": {},
   "outputs": [
    {
     "name": "stdout",
     "output_type": "stream",
     "text": [
      "1\n"
     ]
    }
   ],
   "source": [
    "from collections import Counter\n",
    "test=[1,1,1,2,3]\n",
    "e=Counter(test)\n",
    "for ele,cnt in e.items():\n",
    "    if cnt>1:\n",
    "        print(ele)\n",
    "    else:\n",
    "        break"
   ]
  },
  {
   "cell_type": "code",
   "execution_count": 30,
   "metadata": {},
   "outputs": [
    {
     "ename": "NotImplementedError",
     "evalue": "cannot instantiate 'PosixPath' on your system",
     "output_type": "error",
     "traceback": [
      "\u001b[1;31m---------------------------------------------------------------------------\u001b[0m",
      "\u001b[1;31mNotImplementedError\u001b[0m                       Traceback (most recent call last)",
      "Cell \u001b[1;32mIn[30], line 2\u001b[0m\n\u001b[0;32m      1\u001b[0m \u001b[38;5;28;01mfrom\u001b[39;00m \u001b[38;5;21;01mpathlib\u001b[39;00m \u001b[38;5;28;01mimport\u001b[39;00m PosixPath\n\u001b[1;32m----> 2\u001b[0m p \u001b[38;5;241m=\u001b[39m \u001b[43mPosixPath\u001b[49m\u001b[43m(\u001b[49m\u001b[38;5;124;43m'\u001b[39;49m\u001b[38;5;124;43m~/films/Monty Python\u001b[39;49m\u001b[38;5;124;43m'\u001b[39;49m\u001b[43m)\u001b[49m\n\u001b[0;32m      3\u001b[0m p\u001b[38;5;241m.\u001b[39mexpanduser()\n\u001b[0;32m      4\u001b[0m PosixPath(\u001b[38;5;124m'\u001b[39m\u001b[38;5;124m/home/eric/films/Monty Python\u001b[39m\u001b[38;5;124m'\u001b[39m)\n",
      "File \u001b[1;32mC:\\Program Files\\WindowsApps\\PythonSoftwareFoundation.Python.3.12_3.12.1520.0_x64__qbz5n2kfra8p0\\Lib\\pathlib.py:1422\u001b[0m, in \u001b[0;36mPosixPath.__new__\u001b[1;34m(cls, *args, **kwargs)\u001b[0m\n\u001b[0;32m   1421\u001b[0m \u001b[38;5;28;01mdef\u001b[39;00m \u001b[38;5;21m__new__\u001b[39m(\u001b[38;5;28mcls\u001b[39m, \u001b[38;5;241m*\u001b[39margs, \u001b[38;5;241m*\u001b[39m\u001b[38;5;241m*\u001b[39mkwargs):\n\u001b[1;32m-> 1422\u001b[0m     \u001b[38;5;28;01mraise\u001b[39;00m \u001b[38;5;167;01mNotImplementedError\u001b[39;00m(\n\u001b[0;32m   1423\u001b[0m         \u001b[38;5;124mf\u001b[39m\u001b[38;5;124m\"\u001b[39m\u001b[38;5;124mcannot instantiate \u001b[39m\u001b[38;5;132;01m{\u001b[39;00m\u001b[38;5;28mcls\u001b[39m\u001b[38;5;241m.\u001b[39m\u001b[38;5;18m__name__\u001b[39m\u001b[38;5;132;01m!r}\u001b[39;00m\u001b[38;5;124m on your system\u001b[39m\u001b[38;5;124m\"\u001b[39m)\n",
      "\u001b[1;31mNotImplementedError\u001b[0m: cannot instantiate 'PosixPath' on your system"
     ]
    }
   ],
   "source": [
    "from pathlib import PosixPath\n",
    "p = posixPath('~/films/Monty Python')\n",
    "p.expanduser()\n",
    "PosixPath('/home/eric/films/Monty Python')"
   ]
  },
  {
   "cell_type": "code",
   "execution_count": 27,
   "metadata": {},
   "outputs": [
    {
     "ename": "PermissionError",
     "evalue": "[WinError 5] Access is denied: 'c:\\\\Users\\\\00824732\\\\Desktop'",
     "output_type": "error",
     "traceback": [
      "\u001b[1;31m---------------------------------------------------------------------------\u001b[0m",
      "\u001b[1;31mPermissionError\u001b[0m                           Traceback (most recent call last)",
      "Cell \u001b[1;32mIn[27], line 2\u001b[0m\n\u001b[0;32m      1\u001b[0m Path\u001b[38;5;241m=\u001b[39mPath\u001b[38;5;241m.\u001b[39mcwd()\n\u001b[1;32m----> 2\u001b[0m \u001b[43mPath\u001b[49m\u001b[38;5;241;43m.\u001b[39;49m\u001b[43munlink\u001b[49m\u001b[43m(\u001b[49m\u001b[43mmissing_ok\u001b[49m\u001b[38;5;241;43m=\u001b[39;49m\u001b[38;5;28;43;01mFalse\u001b[39;49;00m\u001b[43m)\u001b[49m\n\u001b[0;32m      3\u001b[0m \u001b[38;5;66;03m# Remove this file or symbolic link. If the path points to a directory, use Path.rmdir() instead.\u001b[39;00m\n\u001b[0;32m      4\u001b[0m \n\u001b[0;32m      5\u001b[0m \u001b[38;5;66;03m# If missing_ok is false (the default), FileNotFoundError is raised if the path does not exist.\u001b[39;00m\n\u001b[0;32m      6\u001b[0m \n\u001b[0;32m      7\u001b[0m \u001b[38;5;66;03m# If missing_ok is true, FileNotFoundError exceptions will be ignored (same behavior as the POSIX rm -f command).\u001b[39;00m\n",
      "File \u001b[1;32mC:\\Program Files\\WindowsApps\\PythonSoftwareFoundation.Python.3.12_3.12.1520.0_x64__qbz5n2kfra8p0\\Lib\\pathlib.py:1342\u001b[0m, in \u001b[0;36mPath.unlink\u001b[1;34m(self, missing_ok)\u001b[0m\n\u001b[0;32m   1337\u001b[0m \u001b[38;5;250m\u001b[39m\u001b[38;5;124;03m\"\"\"\u001b[39;00m\n\u001b[0;32m   1338\u001b[0m \u001b[38;5;124;03mRemove this file or link.\u001b[39;00m\n\u001b[0;32m   1339\u001b[0m \u001b[38;5;124;03mIf the path is a directory, use rmdir() instead.\u001b[39;00m\n\u001b[0;32m   1340\u001b[0m \u001b[38;5;124;03m\"\"\"\u001b[39;00m\n\u001b[0;32m   1341\u001b[0m \u001b[38;5;28;01mtry\u001b[39;00m:\n\u001b[1;32m-> 1342\u001b[0m     \u001b[43mos\u001b[49m\u001b[38;5;241;43m.\u001b[39;49m\u001b[43munlink\u001b[49m\u001b[43m(\u001b[49m\u001b[38;5;28;43mself\u001b[39;49m\u001b[43m)\u001b[49m\n\u001b[0;32m   1343\u001b[0m \u001b[38;5;28;01mexcept\u001b[39;00m \u001b[38;5;167;01mFileNotFoundError\u001b[39;00m:\n\u001b[0;32m   1344\u001b[0m     \u001b[38;5;28;01mif\u001b[39;00m \u001b[38;5;129;01mnot\u001b[39;00m missing_ok:\n",
      "\u001b[1;31mPermissionError\u001b[0m: [WinError 5] Access is denied: 'c:\\\\Users\\\\00824732\\\\Desktop'"
     ]
    }
   ],
   "source": [
    "Path=Path.cwd()\n",
    "Path.unlink(missing_ok=False)\n",
    "# Remove this file or symbolic link. If the path points to a directory, use Path.rmdir() instead.\n",
    "\n",
    "# If missing_ok is false (the default), FileNotFoundError is raised if the path does not exist.\n",
    "\n",
    "# If missing_ok is true, FileNotFoundError exceptions will be ignored (same behavior as the POSIX rm -f command).\n"
   ]
  },
  {
   "cell_type": "code",
   "execution_count": 1,
   "metadata": {},
   "outputs": [
    {
     "ename": "NameError",
     "evalue": "name 'PureWindowsPath' is not defined",
     "output_type": "error",
     "traceback": [
      "\u001b[1;31m---------------------------------------------------------------------------\u001b[0m",
      "\u001b[1;31mNameError\u001b[0m                                 Traceback (most recent call last)",
      "Cell \u001b[1;32mIn[1], line 1\u001b[0m\n\u001b[1;32m----> 1\u001b[0m \u001b[43mPureWindowsPath\u001b[49m(\u001b[38;5;124m'\u001b[39m\u001b[38;5;124m//some/share/setup.py\u001b[39m\u001b[38;5;124m'\u001b[39m)\u001b[38;5;241m.\u001b[39mname\n\u001b[0;32m      2\u001b[0m \u001b[38;5;124m'\u001b[39m\u001b[38;5;124msetup.py\u001b[39m\u001b[38;5;124m'\u001b[39m\n\u001b[0;32m      3\u001b[0m PureWindowsPath(\u001b[38;5;124m'\u001b[39m\u001b[38;5;124m//some/share\u001b[39m\u001b[38;5;124m'\u001b[39m)\u001b[38;5;241m.\u001b[39mname\n",
      "\u001b[1;31mNameError\u001b[0m: name 'PureWindowsPath' is not defined"
     ]
    }
   ],
   "source": [
    "PureWindowsPath('//some/share/setup.py').name\n",
    "'setup.py'\n",
    "PureWindowsPath('//some/share').name\n"
   ]
  },
  {
   "cell_type": "code",
   "execution_count": 1,
   "metadata": {},
   "outputs": [
    {
     "data": {
      "text/plain": [
       "'Text file contents'"
      ]
     },
     "execution_count": 1,
     "metadata": {},
     "output_type": "execute_result"
    }
   ],
   "source": [
    "# Path.write_text(data, encoding=None, errors=None, newline=None)\n",
    "# Open the file pointed to in text mode, write data to it, and close the file:\n",
    "\n",
    "# >>>\n",
    "from pathlib import Path\n",
    "p = Path('my_text_file')\n",
    "p.write_text('Text file contents')\n",
    "# 18\n",
    "p.read_text()\n",
    "# 'Text file contents'\n",
    "# An existing file of the same name is overwritten. The optional parameters have the same meaning as in open().\n",
    "\n",
    "# Added in version 3.5.\n",
    "\n",
    "# Changed in version 3.10: The newline parameter was added.\n"
   ]
  },
  {
   "cell_type": "code",
   "execution_count": 2,
   "metadata": {},
   "outputs": [
    {
     "data": {
      "text/plain": [
       "PurePosixPath('foo')"
      ]
     },
     "execution_count": 2,
     "metadata": {},
     "output_type": "execute_result"
    }
   ],
   "source": [
    "# PurePath.parent\n",
    "# The logical parent of the path:\n",
    "from pathlib import PurePosixPath\n",
    "p = PurePosixPath('/a/b/c/d')\n",
    "p.parent\n",
    "PurePosixPath('/a/b/c')\n",
    "# You cannot go past an anchor, or empty path:\n",
    "\n",
    "p = PurePosixPath('/')\n",
    "p.parent\n",
    "PurePosixPath('/')\n",
    "p = PurePosixPath('.')\n",
    "p.parent\n",
    "# PurePosixPath('.')\n",
    "# Note This is a purely lexical operation, hence the following behaviour:\n",
    "p = PurePosixPath('foo/..')\n",
    "p.parent\n",
    "# PurePosixPath('foo')\n",
    "# If you want to walk an arbitrary filesystem path upwards, it is recommended to first call Path.resolve() so as to resolve symlinks and eliminate \"..\" components.\n"
   ]
  },
  {
   "cell_type": "code",
   "execution_count": null,
   "metadata": {},
   "outputs": [],
   "source": [
    "# Path.lstat()\n",
    "# Like Path.stat() but, if the path points to a symbolic link, return the symbolic link’s information rather than its target’s.\n",
    "\n",
    "# Changed in version 3.12: The follow_symlinks parameter was added.\n",
    "\n",
    "# Path.is_fifo()\n",
    "# Return True if the path points to a FIFO (or a symbolic link pointing to a FIFO), False if it points to another kind of file.\n",
    "\n",
    "# False is also returned if the path doesn’t exist or is a broken symlink; other errors (such as permission errors) are propagated.\n"
   ]
  },
  {
   "cell_type": "code",
   "execution_count": null,
   "metadata": {},
   "outputs": [],
   "source": [
    "# Path.is_block_device()\n",
    "# Return True if the path points to a block device (or a symbolic link pointing to a block device), False if it points to another kind of file.\n",
    "\n",
    "# False is also returned if the path doesn’t exist or is a broken symlink; other errors (such as permission errors) are propagated.\n",
    "\n",
    "# Path.is_char_device()\n",
    "# Return True if the path points to a character device (or a symbolic link pointing to a character device), False if it points to another kind of file.\n",
    "\n",
    "# False is also returned if the path doesn’t exist or is a broken symlink; other errors (such as permission errors) are propagated.\n",
    "\n"
   ]
  },
  {
   "cell_type": "code",
   "execution_count": null,
   "metadata": {},
   "outputs": [],
   "source": [
    "Path.rglob(pattern, *, case_sensitive=None)\n",
    "Glob the given relative pattern recursively. This is like calling Path.glob() with “**/” added in front of the pattern, where patterns are the same as for fnmatch:\n",
    "\n",
    ">>>\n",
    "sorted(Path().rglob(\"*.py\"))\n",
    "[PosixPath('build/lib/pathlib.py'),\n",
    " PosixPath('docs/conf.py'),\n",
    " PosixPath('pathlib.py'),\n",
    " PosixPath('setup.py'),\n",
    " PosixPath('test_pathlib.py')]\n",
    "By default, or when the case_sensitive keyword-only argument is set to None, this method matches paths using platform-specific casing rules: typically, case-sensitive on POSIX, and case-insensitive on Windows. Set case_sensitive to True or False to override this behaviour.\n"
   ]
  },
  {
   "cell_type": "code",
   "execution_count": 5,
   "metadata": {},
   "outputs": [
    {
     "data": {
      "text/plain": [
       "PurePosixPath('passwd')"
      ]
     },
     "execution_count": 5,
     "metadata": {},
     "output_type": "execute_result"
    }
   ],
   "source": [
    "# PurePath.relative_to(other, walk_up=False)\n",
    "# Compute a version of this path relative to the path represented by other. If it’s impossible, ValueError is raised:\n",
    "from pathlib import PurePosixPath\n",
    "p = PurePosixPath('/etc/passwd')\n",
    "p.relative_to('/')\n",
    "PurePosixPath('etc/passwd')\n",
    "p.relative_to('/etc')\n",
    "\n",
    "\n",
    "\n",
    "# PurePosixPath('passwd')\n",
    "# p.relative_to('/usr')\n",
    "# Traceback (most recent call last):\n",
    "#   File \"<stdin>\", line 1, in <module>\n",
    "#   File \"pathlib.py\", line 941, in relative_to\n",
    "#     raise ValueError(error_message.format(str(self), str(formatted)))\n",
    "# ValueError: '/etc/passwd' is not in the subpath of '/usr' OR one path is relative and the other is absolute.\n",
    "# When walk_up is false (the default), the path must start with other. When the argument is true, .. entries may be added to form the relative path. In all other cases, such as the paths referencing different drives, ValueError is raised.:\n"
   ]
  },
  {
   "cell_type": "code",
   "execution_count": 4,
   "metadata": {},
   "outputs": [
    {
     "data": {
      "text/plain": [
       "'setup.py'"
      ]
     },
     "execution_count": 4,
     "metadata": {},
     "output_type": "execute_result"
    }
   ],
   "source": [
    "# PurePath.name\n",
    "# A string representing the final path component, excluding the drive and root, if any:\n",
    "from pathlib import PurePosixPath\n",
    "PurePosixPath('my/library/setup.py').name\n",
    "# 'setup.py'\n",
    "# UNC drive names are not considered:\n"
   ]
  },
  {
   "cell_type": "code",
   "execution_count": null,
   "metadata": {},
   "outputs": [],
   "source": [
    "Renaming and deleting\n",
    "Path.rename(target)\n",
    "Rename this file or directory to the given target, and return a new Path instance pointing to target. On Unix, if target exists and is a file, it will be replaced silently if the user has permission. On Windows, if target exists, FileExistsError will be raised. target can be either a string or another path object:\n",
    "\n",
    ">>>\n",
    "p = Path('foo')\n",
    "p.open('w').write('some text')\n",
    "9\n",
    "target = Path('bar')\n",
    "p.rename(target)\n",
    "PosixPath('bar')\n",
    "target.open().read()\n",
    "'some text'\n",
    "The target path may be absolute or relative. Relative paths are interpreted relative to the current working directory, not the directory of the Path object.\n",
    "\n",
    "It is implemented in terms of os.rename() and gives the same guarantees.\n",
    "\n",
    "Changed in version 3.8: Added return value, return the new Path instance.\n"
   ]
  },
  {
   "cell_type": "code",
   "execution_count": 3,
   "metadata": {},
   "outputs": [
    {
     "data": {
      "text/plain": [
       "PureWindowsPath('//server/share/file')"
      ]
     },
     "execution_count": 3,
     "metadata": {},
     "output_type": "execute_result"
    }
   ],
   "source": [
    "# class pathlib.PureWindowsPath(*pathsegments)\n",
    "# A subclass of PurePath, this path flavour represents Windows filesystem paths, including UNC paths:\n",
    "\n",
    "from pathlib import PureWindowsPath\n",
    "PureWindowsPath('c:/', 'Users', 'Ximénez')\n",
    "PureWindowsPath('c:/Users/Ximénez')\n",
    "PureWindowsPath('//server/share/file')\n",
    "PureWindowsPath('//server/share/file')\n",
    "# pathsegments is specified similarly to PurePath.\n",
    "\n",
    "# Regardless of the system you’re running on, you can instantiate all of these classes, since they don’t provide any operation that does system calls.\n"
   ]
  }
 ],
 "metadata": {
  "kernelspec": {
   "display_name": "Python 3",
   "language": "python",
   "name": "python3"
  },
  "language_info": {
   "codemirror_mode": {
    "name": "ipython",
    "version": 3
   },
   "file_extension": ".py",
   "mimetype": "text/x-python",
   "name": "python",
   "nbconvert_exporter": "python",
   "pygments_lexer": "ipython3",
   "version": "3.12.5"
  }
 },
 "nbformat": 4,
 "nbformat_minor": 2
}
